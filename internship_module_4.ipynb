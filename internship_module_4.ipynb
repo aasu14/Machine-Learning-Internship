{
  "nbformat": 4,
  "nbformat_minor": 0,
  "metadata": {
    "language_info": {
      "name": "python",
      "codemirror_mode": {
        "name": "ipython",
        "version": 3
      }
    },
    "orig_nbformat": 2,
    "file_extension": ".py",
    "mimetype": "text/x-python",
    "name": "python",
    "npconvert_exporter": "python",
    "pygments_lexer": "ipython3",
    "version": 3,
    "colab": {
      "name": "internship_module_4.ipynb",
      "version": "0.3.2",
      "provenance": []
    }
  },
  "cells": [
    {
      "cell_type": "code",
      "metadata": {
        "id": "zon7Hzf9YYJc",
        "colab_type": "code",
        "colab": {}
      },
      "source": [
        "import pandas as pd\n",
        "import numpy as np\n",
        "import seaborn as sns\n",
        "from matplotlib import pyplot as plt\n"
      ],
      "execution_count": 0,
      "outputs": []
    },
    {
      "cell_type": "code",
      "metadata": {
        "id": "j23u5IAmYYJi",
        "colab_type": "code",
        "colab": {}
      },
      "source": [
        "ndf = pd.read_csv('Nifty50.csv')\n",
        "ndf.Date = pd.to_datetime(ndf['Date'])\n",
        "\n",
        "ndf['bollinger'] = ndf['Close'].rolling(14).mean()\n",
        "std = ndf['Close'].rolling(14).std()\n",
        "ndf['upper'] = ndf['bollinger'] + 2 * std \n",
        "ndf['lower'] = ndf['bollinger'] - 2 * std\n",
        "ndf = ndf.dropna()\n",
        "\n",
        "conditions = [\n",
        "    (ndf.Open < ndf['lower']),\n",
        "    (ndf.Open > ndf['lower']) & (ndf.Open < ndf[\"bollinger\"]),\n",
        "    (ndf.Open < ndf['upper']) & (ndf.Open > ndf[\"bollinger\"]),\n",
        "    (ndf.Open > ndf['upper'])\n",
        "    ]\n",
        "\n",
        "choices = ['Buy', 'Hold Buy', 'Hold Short', \"Short\"]\n",
        "ndf[\"Call\"] = np.select(conditions, choices) \n",
        "# print(ndf.head(10))\n"
      ],
      "execution_count": 0,
      "outputs": []
    },
    {
      "cell_type": "code",
      "metadata": {
        "id": "JNSiZFtDYYJm",
        "colab_type": "code",
        "colab": {},
        "outputId": "0e22c33c-7372-4c53-e3ba-8c37b446a826"
      },
      "source": [
        "from sklearn.model_selection import train_test_split\n",
        "\n",
        "X = ndf[['lower','bollinger', 'upper']].values\n",
        "Y = ndf[\"Call\"].values\n",
        "X_train, X_test, Y_train, Y_test = train_test_split(X, Y, test_size=0.3, random_state=42)\n",
        "\n",
        "\n",
        "from sklearn.neighbors import KNeighborsClassifier\n",
        "\n",
        "knn = KNeighborsClassifier(4, n_jobs=-1)\n",
        "knn.fit(X_train, Y_train)\n",
        "\n",
        "print(\"KNN\\'s Score = \", knn.score(X_test, Y_test)) \n"
      ],
      "execution_count": 0,
      "outputs": [
        {
          "output_type": "stream",
          "text": [
            "KNN's Score =  0.6\n"
          ],
          "name": "stdout"
        }
      ]
    },
    {
      "cell_type": "code",
      "metadata": {
        "id": "mKyCZPSeYYJr",
        "colab_type": "code",
        "colab": {},
        "outputId": "dba9833d-2238-4c4a-b379-8d9e309c5e5f"
      },
      "source": [
        "\n",
        "from sklearn import svm\n",
        "\n",
        "clf = svm.SVC(gamma='auto', decision_function_shape='ovo')\n",
        "clf.fit(X_train, Y_train)\n",
        "print(\"SVM\\'s Score = \", clf.score(X_test, Y_test)) \n"
      ],
      "execution_count": 0,
      "outputs": [
        {
          "output_type": "stream",
          "text": [
            "SVM's Score =  0.6206896551724138\n"
          ],
          "name": "stdout"
        }
      ]
    },
    {
      "cell_type": "code",
      "metadata": {
        "id": "fU3n25BkYYJx",
        "colab_type": "code",
        "colab": {},
        "outputId": "7f94644c-aec7-42e5-bc2c-07773567aa61"
      },
      "source": [
        "\n",
        "from sklearn import tree\n",
        "\n",
        "tree = tree.DecisionTreeClassifier().fit(X_train, Y_train)\n",
        "print(\"Tree\\'s Score\", tree.score(X_test, Y_test))\n"
      ],
      "execution_count": 0,
      "outputs": [
        {
          "output_type": "stream",
          "text": [
            "Tree's Score 0.6068965517241379\n"
          ],
          "name": "stdout"
        }
      ]
    },
    {
      "cell_type": "code",
      "metadata": {
        "id": "tNUm_u8dYYJ0",
        "colab_type": "code",
        "colab": {},
        "outputId": "2d284763-5790-4e9f-a6cc-d4450f9b863c"
      },
      "source": [
        "\n",
        "hdf = pd.read_csv('HEROMOTOCO.csv')\n",
        "hdf = hdf[hdf[\"Series\"] == \"EQ\"]\n",
        "hdf.Date = pd.to_datetime(hdf['Date'])\n",
        "\n",
        "hdf['bollinger'] = hdf['Close Price'].rolling(14).mean()\n",
        "std = hdf['Close Price'].rolling(14).std()\n",
        "hdf['upper'] = hdf['bollinger'] + 2 * std \n",
        "hdf['lower'] = hdf['bollinger'] - 2 * std\n",
        "hdf = hdf.dropna()\n",
        "\n",
        "# Using SVM Model\n",
        "X = hdf[['lower','bollinger', 'upper']].values\n",
        "hdf[\"Call Pridicted\"] = clf.predict(X)\n",
        "print(hdf[[\"Open Price\", 'bollinger', 'upper', 'lower', 'Call Pridicted']].head(5))\n"
      ],
      "execution_count": 0,
      "outputs": [
        {
          "output_type": "stream",
          "text": [
            "    Open Price    bollinger        upper        lower Call Pridicted\n",
            "13     3742.00  3627.767857  3770.667357  3484.868357     Hold Short\n",
            "14     3758.80  3651.646429  3822.656129  3480.636728     Hold Short\n",
            "15     3850.00  3667.042857  3862.597846  3471.487868     Hold Short\n",
            "16     3844.00  3678.042857  3885.452596  3470.633118     Hold Short\n",
            "17     3803.85  3695.985714  3914.513996  3477.457433     Hold Short\n"
          ],
          "name": "stdout"
        }
      ]
    },
    {
      "cell_type": "code",
      "metadata": {
        "id": "WY2qS336YYJ3",
        "colab_type": "code",
        "colab": {}
      },
      "source": [
        "\n",
        "\n",
        "ndf = pd.read_csv('Nifty50.csv')\n",
        "ndf.Date = pd.to_datetime(ndf['Date'])\n",
        "ndf = ndf.set_index('Date')\n",
        "\n",
        "ndf['pctch_open_close'] = (ndf.Close - ndf.Open)/ndf.Open *100\n",
        "ndf['pctch_low_high'] = (ndf.High - ndf.Low)/ndf.Low *100\n",
        "ndf['rolling_mean5'] = ndf['Close'].rolling(5).mean()\n",
        "ndf[\"std5\"] = ndf['Close'].rolling(5).std()\n",
        "\n",
        "l=[]\n",
        "for i in range(ndf.Close[:-1].shape[0]):\n",
        "    if ndf.Close[i] < ndf.Close[i+1]:\n",
        "        l.append(1)\n",
        "    elif ndf.Close[i] > ndf.Close[i+1]:\n",
        "        l.append(-1)\n",
        "    else: \n",
        "        l.append(\"NaN\")\n",
        "l.append('NaN')\n",
        "\n",
        "ndf[\"Action\"] = np.array([l]).reshape((len(l),1))\n",
        "ndf = ndf.dropna()\n",
        "\n",
        "X = ndf[['pctch_open_close', 'pctch_low_high', 'rolling_mean5', \"std5\"]].values\n",
        "Y = ndf.Action.values\n",
        "X_train, X_test, Y_train, Y_test = train_test_split(X, Y, test_size=0.3, random_state=42)\n"
      ],
      "execution_count": 0,
      "outputs": []
    },
    {
      "cell_type": "code",
      "metadata": {
        "id": "xOKbJhuEYYJ6",
        "colab_type": "code",
        "colab": {},
        "outputId": "2412e20c-9d8b-48b7-f33d-f09764d0b9ce"
      },
      "source": [
        "\n",
        "from sklearn.ensemble import RandomForestClassifier\n",
        "from sklearn import metrics\n",
        "\n",
        "random_forest = RandomForestClassifier(n_estimators=50, random_state=42)\n",
        "random_forest.fit(X_train, Y_train)\n",
        "Y_pred = random_forest.predict(X_test)\n",
        "\n",
        "print(\"Accuracy:\",metrics.accuracy_score(Y_pred, Y_test))\n"
      ],
      "execution_count": 0,
      "outputs": [
        {
          "output_type": "stream",
          "text": [
            "Accuracy: 0.5714285714285714\n"
          ],
          "name": "stdout"
        }
      ]
    },
    {
      "cell_type": "code",
      "metadata": {
        "id": "bEuIESvfYYJ_",
        "colab_type": "code",
        "colab": {},
        "outputId": "cb634c47-b983-4dc0-bc29-813f7694af09"
      },
      "source": [
        "\n",
        "pridicted_Y = random_forest.predict(X)[:-1].astype('int')\n",
        "pridicted_Y = np.hstack((1, pridicted_Y))\n",
        "\n",
        "raw = np.array([i*j for i, j in zip(pridicted_Y, ndf.Close)]) \n",
        "\n",
        "temp = [1, ]\n",
        "\n",
        "for i in range(1, len(pridicted_Y)):\n",
        "    if pridicted_Y[i] < 1:\n",
        "        continue    \n",
        "    else:\n",
        "        profit = (ndf.Close[i] - abs(ndf.Close[i-1])) / abs(ndf.Close[i-1])\n",
        "        temp.append(profit)\n",
        "\n",
        "\n",
        "returns_perc = []\n",
        "for i in range(1, len(temp)):\n",
        "    returns_perc.append(np.sum(temp[:i]))\n",
        "\n",
        "fig, ax  = plt.subplots(figsize=(15, 6))\n",
        "ax.plot(range(len(returns_perc)), returns_perc)\n",
        "plt.show()\n"
      ],
      "execution_count": 0,
      "outputs": [
        {
          "output_type": "display_data",
          "data": {
            "image/svg+xml": "<?xml version=\"1.0\" encoding=\"utf-8\" standalone=\"no\"?>\r\n<!DOCTYPE svg PUBLIC \"-//W3C//DTD SVG 1.1//EN\"\r\n  \"http://www.w3.org/Graphics/SVG/1.1/DTD/svg11.dtd\">\r\n<!-- Created with matplotlib (https://matplotlib.org/) -->\r\n<svg height=\"360.738125pt\" version=\"1.1\" viewBox=\"0 0 877.803125 360.738125\" width=\"877.803125pt\" xmlns=\"http://www.w3.org/2000/svg\" xmlns:xlink=\"http://www.w3.org/1999/xlink\">\r\n <defs>\r\n  <style type=\"text/css\">\r\n*{stroke-linecap:butt;stroke-linejoin:round;}\r\n  </style>\r\n </defs>\r\n <g id=\"figure_1\">\r\n  <g id=\"patch_1\">\r\n   <path d=\"M 0 360.738125 \r\nL 877.803125 360.738125 \r\nL 877.803125 0 \r\nL 0 0 \r\nz\r\n\"/>\r\n  </g>\r\n  <g id=\"axes_1\">\r\n   <g id=\"patch_2\">\r\n    <path d=\"M 30.103125 336.86 \r\nL 867.103125 336.86 \r\nL 867.103125 10.7 \r\nL 30.103125 10.7 \r\nz\r\n\"/>\r\n   </g>\r\n   <g id=\"matplotlib.axis_1\">\r\n    <g id=\"xtick_1\">\r\n     <g id=\"line2d_1\">\r\n      <defs>\r\n       <path d=\"M 0 0 \r\nL 0 3.5 \r\n\" id=\"m5e0ded4a71\" style=\"stroke:#ffffff;stroke-width:0.8;\"/>\r\n      </defs>\r\n      <g>\r\n       <use style=\"fill:#ffffff;stroke:#ffffff;stroke-width:0.8;\" x=\"68.14858\" xlink:href=\"#m5e0ded4a71\" y=\"336.86\"/>\r\n      </g>\r\n     </g>\r\n     <g id=\"text_1\">\r\n      <!-- 0 -->\r\n      <defs>\r\n       <path d=\"M 31.78125 66.40625 \r\nQ 24.171875 66.40625 20.328125 58.90625 \r\nQ 16.5 51.421875 16.5 36.375 \r\nQ 16.5 21.390625 20.328125 13.890625 \r\nQ 24.171875 6.390625 31.78125 6.390625 \r\nQ 39.453125 6.390625 43.28125 13.890625 \r\nQ 47.125 21.390625 47.125 36.375 \r\nQ 47.125 51.421875 43.28125 58.90625 \r\nQ 39.453125 66.40625 31.78125 66.40625 \r\nz\r\nM 31.78125 74.21875 \r\nQ 44.046875 74.21875 50.515625 64.515625 \r\nQ 56.984375 54.828125 56.984375 36.375 \r\nQ 56.984375 17.96875 50.515625 8.265625 \r\nQ 44.046875 -1.421875 31.78125 -1.421875 \r\nQ 19.53125 -1.421875 13.0625 8.265625 \r\nQ 6.59375 17.96875 6.59375 36.375 \r\nQ 6.59375 54.828125 13.0625 64.515625 \r\nQ 19.53125 74.21875 31.78125 74.21875 \r\nz\r\n\" id=\"DejaVuSans-48\"/>\r\n      </defs>\r\n      <g style=\"fill:#ffffff;\" transform=\"translate(64.96733 351.458437)scale(0.1 -0.1)\">\r\n       <use xlink:href=\"#DejaVuSans-48\"/>\r\n      </g>\r\n     </g>\r\n    </g>\r\n    <g id=\"xtick_2\">\r\n     <g id=\"line2d_2\">\r\n      <g>\r\n       <use style=\"fill:#ffffff;stroke:#ffffff;stroke-width:0.8;\" x=\"204.512216\" xlink:href=\"#m5e0ded4a71\" y=\"336.86\"/>\r\n      </g>\r\n     </g>\r\n     <g id=\"text_2\">\r\n      <!-- 50 -->\r\n      <defs>\r\n       <path d=\"M 10.796875 72.90625 \r\nL 49.515625 72.90625 \r\nL 49.515625 64.59375 \r\nL 19.828125 64.59375 \r\nL 19.828125 46.734375 \r\nQ 21.96875 47.46875 24.109375 47.828125 \r\nQ 26.265625 48.1875 28.421875 48.1875 \r\nQ 40.625 48.1875 47.75 41.5 \r\nQ 54.890625 34.8125 54.890625 23.390625 \r\nQ 54.890625 11.625 47.5625 5.09375 \r\nQ 40.234375 -1.421875 26.90625 -1.421875 \r\nQ 22.3125 -1.421875 17.546875 -0.640625 \r\nQ 12.796875 0.140625 7.71875 1.703125 \r\nL 7.71875 11.625 \r\nQ 12.109375 9.234375 16.796875 8.0625 \r\nQ 21.484375 6.890625 26.703125 6.890625 \r\nQ 35.15625 6.890625 40.078125 11.328125 \r\nQ 45.015625 15.765625 45.015625 23.390625 \r\nQ 45.015625 31 40.078125 35.4375 \r\nQ 35.15625 39.890625 26.703125 39.890625 \r\nQ 22.75 39.890625 18.8125 39.015625 \r\nQ 14.890625 38.140625 10.796875 36.28125 \r\nz\r\n\" id=\"DejaVuSans-53\"/>\r\n      </defs>\r\n      <g style=\"fill:#ffffff;\" transform=\"translate(198.149716 351.458437)scale(0.1 -0.1)\">\r\n       <use xlink:href=\"#DejaVuSans-53\"/>\r\n       <use x=\"63.623047\" xlink:href=\"#DejaVuSans-48\"/>\r\n      </g>\r\n     </g>\r\n    </g>\r\n    <g id=\"xtick_3\">\r\n     <g id=\"line2d_3\">\r\n      <g>\r\n       <use style=\"fill:#ffffff;stroke:#ffffff;stroke-width:0.8;\" x=\"340.875852\" xlink:href=\"#m5e0ded4a71\" y=\"336.86\"/>\r\n      </g>\r\n     </g>\r\n     <g id=\"text_3\">\r\n      <!-- 100 -->\r\n      <defs>\r\n       <path d=\"M 12.40625 8.296875 \r\nL 28.515625 8.296875 \r\nL 28.515625 63.921875 \r\nL 10.984375 60.40625 \r\nL 10.984375 69.390625 \r\nL 28.421875 72.90625 \r\nL 38.28125 72.90625 \r\nL 38.28125 8.296875 \r\nL 54.390625 8.296875 \r\nL 54.390625 0 \r\nL 12.40625 0 \r\nz\r\n\" id=\"DejaVuSans-49\"/>\r\n      </defs>\r\n      <g style=\"fill:#ffffff;\" transform=\"translate(331.332102 351.458437)scale(0.1 -0.1)\">\r\n       <use xlink:href=\"#DejaVuSans-49\"/>\r\n       <use x=\"63.623047\" xlink:href=\"#DejaVuSans-48\"/>\r\n       <use x=\"127.246094\" xlink:href=\"#DejaVuSans-48\"/>\r\n      </g>\r\n     </g>\r\n    </g>\r\n    <g id=\"xtick_4\">\r\n     <g id=\"line2d_4\">\r\n      <g>\r\n       <use style=\"fill:#ffffff;stroke:#ffffff;stroke-width:0.8;\" x=\"477.239489\" xlink:href=\"#m5e0ded4a71\" y=\"336.86\"/>\r\n      </g>\r\n     </g>\r\n     <g id=\"text_4\">\r\n      <!-- 150 -->\r\n      <g style=\"fill:#ffffff;\" transform=\"translate(467.695739 351.458437)scale(0.1 -0.1)\">\r\n       <use xlink:href=\"#DejaVuSans-49\"/>\r\n       <use x=\"63.623047\" xlink:href=\"#DejaVuSans-53\"/>\r\n       <use x=\"127.246094\" xlink:href=\"#DejaVuSans-48\"/>\r\n      </g>\r\n     </g>\r\n    </g>\r\n    <g id=\"xtick_5\">\r\n     <g id=\"line2d_5\">\r\n      <g>\r\n       <use style=\"fill:#ffffff;stroke:#ffffff;stroke-width:0.8;\" x=\"613.603125\" xlink:href=\"#m5e0ded4a71\" y=\"336.86\"/>\r\n      </g>\r\n     </g>\r\n     <g id=\"text_5\">\r\n      <!-- 200 -->\r\n      <defs>\r\n       <path d=\"M 19.1875 8.296875 \r\nL 53.609375 8.296875 \r\nL 53.609375 0 \r\nL 7.328125 0 \r\nL 7.328125 8.296875 \r\nQ 12.9375 14.109375 22.625 23.890625 \r\nQ 32.328125 33.6875 34.8125 36.53125 \r\nQ 39.546875 41.84375 41.421875 45.53125 \r\nQ 43.3125 49.21875 43.3125 52.78125 \r\nQ 43.3125 58.59375 39.234375 62.25 \r\nQ 35.15625 65.921875 28.609375 65.921875 \r\nQ 23.96875 65.921875 18.8125 64.3125 \r\nQ 13.671875 62.703125 7.8125 59.421875 \r\nL 7.8125 69.390625 \r\nQ 13.765625 71.78125 18.9375 73 \r\nQ 24.125 74.21875 28.421875 74.21875 \r\nQ 39.75 74.21875 46.484375 68.546875 \r\nQ 53.21875 62.890625 53.21875 53.421875 \r\nQ 53.21875 48.921875 51.53125 44.890625 \r\nQ 49.859375 40.875 45.40625 35.40625 \r\nQ 44.1875 33.984375 37.640625 27.21875 \r\nQ 31.109375 20.453125 19.1875 8.296875 \r\nz\r\n\" id=\"DejaVuSans-50\"/>\r\n      </defs>\r\n      <g style=\"fill:#ffffff;\" transform=\"translate(604.059375 351.458437)scale(0.1 -0.1)\">\r\n       <use xlink:href=\"#DejaVuSans-50\"/>\r\n       <use x=\"63.623047\" xlink:href=\"#DejaVuSans-48\"/>\r\n       <use x=\"127.246094\" xlink:href=\"#DejaVuSans-48\"/>\r\n      </g>\r\n     </g>\r\n    </g>\r\n    <g id=\"xtick_6\">\r\n     <g id=\"line2d_6\">\r\n      <g>\r\n       <use style=\"fill:#ffffff;stroke:#ffffff;stroke-width:0.8;\" x=\"749.966761\" xlink:href=\"#m5e0ded4a71\" y=\"336.86\"/>\r\n      </g>\r\n     </g>\r\n     <g id=\"text_6\">\r\n      <!-- 250 -->\r\n      <g style=\"fill:#ffffff;\" transform=\"translate(740.423011 351.458437)scale(0.1 -0.1)\">\r\n       <use xlink:href=\"#DejaVuSans-50\"/>\r\n       <use x=\"63.623047\" xlink:href=\"#DejaVuSans-53\"/>\r\n       <use x=\"127.246094\" xlink:href=\"#DejaVuSans-48\"/>\r\n      </g>\r\n     </g>\r\n    </g>\r\n   </g>\r\n   <g id=\"matplotlib.axis_2\">\r\n    <g id=\"ytick_1\">\r\n     <g id=\"line2d_7\">\r\n      <defs>\r\n       <path d=\"M 0 0 \r\nL -3.5 0 \r\n\" id=\"mcffcde328e\" style=\"stroke:#ffffff;stroke-width:0.8;\"/>\r\n      </defs>\r\n      <g>\r\n       <use style=\"fill:#ffffff;stroke:#ffffff;stroke-width:0.8;\" x=\"30.103125\" xlink:href=\"#mcffcde328e\" y=\"322.034545\"/>\r\n      </g>\r\n     </g>\r\n     <g id=\"text_7\">\r\n      <!-- 1.0 -->\r\n      <defs>\r\n       <path d=\"M 10.6875 12.40625 \r\nL 21 12.40625 \r\nL 21 0 \r\nL 10.6875 0 \r\nz\r\n\" id=\"DejaVuSans-46\"/>\r\n      </defs>\r\n      <g style=\"fill:#ffffff;\" transform=\"translate(7.2 325.833764)scale(0.1 -0.1)\">\r\n       <use xlink:href=\"#DejaVuSans-49\"/>\r\n       <use x=\"63.623047\" xlink:href=\"#DejaVuSans-46\"/>\r\n       <use x=\"95.410156\" xlink:href=\"#DejaVuSans-48\"/>\r\n      </g>\r\n     </g>\r\n    </g>\r\n    <g id=\"ytick_2\">\r\n     <g id=\"line2d_8\">\r\n      <g>\r\n       <use style=\"fill:#ffffff;stroke:#ffffff;stroke-width:0.8;\" x=\"30.103125\" xlink:href=\"#mcffcde328e\" y=\"268.362658\"/>\r\n      </g>\r\n     </g>\r\n     <g id=\"text_8\">\r\n      <!-- 1.2 -->\r\n      <g style=\"fill:#ffffff;\" transform=\"translate(7.2 272.161877)scale(0.1 -0.1)\">\r\n       <use xlink:href=\"#DejaVuSans-49\"/>\r\n       <use x=\"63.623047\" xlink:href=\"#DejaVuSans-46\"/>\r\n       <use x=\"95.410156\" xlink:href=\"#DejaVuSans-50\"/>\r\n      </g>\r\n     </g>\r\n    </g>\r\n    <g id=\"ytick_3\">\r\n     <g id=\"line2d_9\">\r\n      <g>\r\n       <use style=\"fill:#ffffff;stroke:#ffffff;stroke-width:0.8;\" x=\"30.103125\" xlink:href=\"#mcffcde328e\" y=\"214.69077\"/>\r\n      </g>\r\n     </g>\r\n     <g id=\"text_9\">\r\n      <!-- 1.4 -->\r\n      <defs>\r\n       <path d=\"M 37.796875 64.3125 \r\nL 12.890625 25.390625 \r\nL 37.796875 25.390625 \r\nz\r\nM 35.203125 72.90625 \r\nL 47.609375 72.90625 \r\nL 47.609375 25.390625 \r\nL 58.015625 25.390625 \r\nL 58.015625 17.1875 \r\nL 47.609375 17.1875 \r\nL 47.609375 0 \r\nL 37.796875 0 \r\nL 37.796875 17.1875 \r\nL 4.890625 17.1875 \r\nL 4.890625 26.703125 \r\nz\r\n\" id=\"DejaVuSans-52\"/>\r\n      </defs>\r\n      <g style=\"fill:#ffffff;\" transform=\"translate(7.2 218.489989)scale(0.1 -0.1)\">\r\n       <use xlink:href=\"#DejaVuSans-49\"/>\r\n       <use x=\"63.623047\" xlink:href=\"#DejaVuSans-46\"/>\r\n       <use x=\"95.410156\" xlink:href=\"#DejaVuSans-52\"/>\r\n      </g>\r\n     </g>\r\n    </g>\r\n    <g id=\"ytick_4\">\r\n     <g id=\"line2d_10\">\r\n      <g>\r\n       <use style=\"fill:#ffffff;stroke:#ffffff;stroke-width:0.8;\" x=\"30.103125\" xlink:href=\"#mcffcde328e\" y=\"161.018883\"/>\r\n      </g>\r\n     </g>\r\n     <g id=\"text_10\">\r\n      <!-- 1.6 -->\r\n      <defs>\r\n       <path d=\"M 33.015625 40.375 \r\nQ 26.375 40.375 22.484375 35.828125 \r\nQ 18.609375 31.296875 18.609375 23.390625 \r\nQ 18.609375 15.53125 22.484375 10.953125 \r\nQ 26.375 6.390625 33.015625 6.390625 \r\nQ 39.65625 6.390625 43.53125 10.953125 \r\nQ 47.40625 15.53125 47.40625 23.390625 \r\nQ 47.40625 31.296875 43.53125 35.828125 \r\nQ 39.65625 40.375 33.015625 40.375 \r\nz\r\nM 52.59375 71.296875 \r\nL 52.59375 62.3125 \r\nQ 48.875 64.0625 45.09375 64.984375 \r\nQ 41.3125 65.921875 37.59375 65.921875 \r\nQ 27.828125 65.921875 22.671875 59.328125 \r\nQ 17.53125 52.734375 16.796875 39.40625 \r\nQ 19.671875 43.65625 24.015625 45.921875 \r\nQ 28.375 48.1875 33.59375 48.1875 \r\nQ 44.578125 48.1875 50.953125 41.515625 \r\nQ 57.328125 34.859375 57.328125 23.390625 \r\nQ 57.328125 12.15625 50.6875 5.359375 \r\nQ 44.046875 -1.421875 33.015625 -1.421875 \r\nQ 20.359375 -1.421875 13.671875 8.265625 \r\nQ 6.984375 17.96875 6.984375 36.375 \r\nQ 6.984375 53.65625 15.1875 63.9375 \r\nQ 23.390625 74.21875 37.203125 74.21875 \r\nQ 40.921875 74.21875 44.703125 73.484375 \r\nQ 48.484375 72.75 52.59375 71.296875 \r\nz\r\n\" id=\"DejaVuSans-54\"/>\r\n      </defs>\r\n      <g style=\"fill:#ffffff;\" transform=\"translate(7.2 164.818102)scale(0.1 -0.1)\">\r\n       <use xlink:href=\"#DejaVuSans-49\"/>\r\n       <use x=\"63.623047\" xlink:href=\"#DejaVuSans-46\"/>\r\n       <use x=\"95.410156\" xlink:href=\"#DejaVuSans-54\"/>\r\n      </g>\r\n     </g>\r\n    </g>\r\n    <g id=\"ytick_5\">\r\n     <g id=\"line2d_11\">\r\n      <g>\r\n       <use style=\"fill:#ffffff;stroke:#ffffff;stroke-width:0.8;\" x=\"30.103125\" xlink:href=\"#mcffcde328e\" y=\"107.346995\"/>\r\n      </g>\r\n     </g>\r\n     <g id=\"text_11\">\r\n      <!-- 1.8 -->\r\n      <defs>\r\n       <path d=\"M 31.78125 34.625 \r\nQ 24.75 34.625 20.71875 30.859375 \r\nQ 16.703125 27.09375 16.703125 20.515625 \r\nQ 16.703125 13.921875 20.71875 10.15625 \r\nQ 24.75 6.390625 31.78125 6.390625 \r\nQ 38.8125 6.390625 42.859375 10.171875 \r\nQ 46.921875 13.96875 46.921875 20.515625 \r\nQ 46.921875 27.09375 42.890625 30.859375 \r\nQ 38.875 34.625 31.78125 34.625 \r\nz\r\nM 21.921875 38.8125 \r\nQ 15.578125 40.375 12.03125 44.71875 \r\nQ 8.5 49.078125 8.5 55.328125 \r\nQ 8.5 64.0625 14.71875 69.140625 \r\nQ 20.953125 74.21875 31.78125 74.21875 \r\nQ 42.671875 74.21875 48.875 69.140625 \r\nQ 55.078125 64.0625 55.078125 55.328125 \r\nQ 55.078125 49.078125 51.53125 44.71875 \r\nQ 48 40.375 41.703125 38.8125 \r\nQ 48.828125 37.15625 52.796875 32.3125 \r\nQ 56.78125 27.484375 56.78125 20.515625 \r\nQ 56.78125 9.90625 50.3125 4.234375 \r\nQ 43.84375 -1.421875 31.78125 -1.421875 \r\nQ 19.734375 -1.421875 13.25 4.234375 \r\nQ 6.78125 9.90625 6.78125 20.515625 \r\nQ 6.78125 27.484375 10.78125 32.3125 \r\nQ 14.796875 37.15625 21.921875 38.8125 \r\nz\r\nM 18.3125 54.390625 \r\nQ 18.3125 48.734375 21.84375 45.5625 \r\nQ 25.390625 42.390625 31.78125 42.390625 \r\nQ 38.140625 42.390625 41.71875 45.5625 \r\nQ 45.3125 48.734375 45.3125 54.390625 \r\nQ 45.3125 60.0625 41.71875 63.234375 \r\nQ 38.140625 66.40625 31.78125 66.40625 \r\nQ 25.390625 66.40625 21.84375 63.234375 \r\nQ 18.3125 60.0625 18.3125 54.390625 \r\nz\r\n\" id=\"DejaVuSans-56\"/>\r\n      </defs>\r\n      <g style=\"fill:#ffffff;\" transform=\"translate(7.2 111.146214)scale(0.1 -0.1)\">\r\n       <use xlink:href=\"#DejaVuSans-49\"/>\r\n       <use x=\"63.623047\" xlink:href=\"#DejaVuSans-46\"/>\r\n       <use x=\"95.410156\" xlink:href=\"#DejaVuSans-56\"/>\r\n      </g>\r\n     </g>\r\n    </g>\r\n    <g id=\"ytick_6\">\r\n     <g id=\"line2d_12\">\r\n      <g>\r\n       <use style=\"fill:#ffffff;stroke:#ffffff;stroke-width:0.8;\" x=\"30.103125\" xlink:href=\"#mcffcde328e\" y=\"53.675108\"/>\r\n      </g>\r\n     </g>\r\n     <g id=\"text_12\">\r\n      <!-- 2.0 -->\r\n      <g style=\"fill:#ffffff;\" transform=\"translate(7.2 57.474326)scale(0.1 -0.1)\">\r\n       <use xlink:href=\"#DejaVuSans-50\"/>\r\n       <use x=\"63.623047\" xlink:href=\"#DejaVuSans-46\"/>\r\n       <use x=\"95.410156\" xlink:href=\"#DejaVuSans-48\"/>\r\n      </g>\r\n     </g>\r\n    </g>\r\n   </g>\r\n   <g id=\"line2d_13\">\r\n    <path clip-path=\"url(#pf509874cf2)\" d=\"M 68.14858 322.034545 \r\nL 70.875852 321.739939 \r\nL 73.603125 317.462495 \r\nL 76.330398 315.053969 \r\nL 79.05767 314.779879 \r\nL 84.512216 313.630399 \r\nL 87.239489 312.885509 \r\nL 89.966761 312.301348 \r\nL 92.694034 313.740537 \r\nL 95.421307 314.005648 \r\nL 98.14858 313.69139 \r\nL 100.875852 314.810234 \r\nL 103.603125 314.530053 \r\nL 106.330398 312.584821 \r\nL 109.05767 312.685104 \r\nL 111.784943 314.219184 \r\nL 114.512216 316.000315 \r\nL 119.966761 315.162621 \r\nL 122.694034 312.510286 \r\nL 125.421307 312.557734 \r\nL 128.14858 311.879389 \r\nL 130.875852 310.850514 \r\nL 133.603125 311.093228 \r\nL 136.330398 308.171087 \r\nL 139.05767 307.759115 \r\nL 141.784943 306.935065 \r\nL 144.512216 304.868259 \r\nL 147.239489 304.064783 \r\nL 149.966761 302.086321 \r\nL 152.694034 302.799265 \r\nL 155.421307 301.65905 \r\nL 158.14858 300.274659 \r\nL 160.875852 298.763807 \r\nL 163.603125 297.086309 \r\nL 166.330398 296.086329 \r\nL 169.05767 294.672663 \r\nL 171.784943 297.050725 \r\nL 174.512216 294.747335 \r\nL 177.239489 291.921028 \r\nL 179.966761 291.735294 \r\nL 182.694034 294.000857 \r\nL 185.421307 293.692726 \r\nL 188.14858 291.303321 \r\nL 190.875852 291.179389 \r\nL 193.603125 289.661588 \r\nL 196.330398 292.822246 \r\nL 199.05767 290.401928 \r\nL 201.784943 289.492409 \r\nL 204.512216 287.963627 \r\nL 207.239489 289.619619 \r\nL 209.966761 288.554341 \r\nL 212.694034 288.421916 \r\nL 215.421307 286.497307 \r\nL 218.14858 286.862899 \r\nL 220.875852 286.668538 \r\nL 223.603125 284.867129 \r\nL 226.330398 285.036381 \r\nL 229.05767 289.21214 \r\nL 231.784943 288.672342 \r\nL 234.512216 286.728582 \r\nL 237.239489 285.220685 \r\nL 239.966761 285.929822 \r\nL 242.694034 283.460265 \r\nL 245.421307 283.216905 \r\nL 248.14858 282.459279 \r\nL 250.875852 279.459829 \r\nL 253.603125 277.57134 \r\nL 256.330398 275.897962 \r\nL 259.05767 275.803532 \r\nL 261.784943 277.493452 \r\nL 264.512216 276.48048 \r\nL 267.239489 275.878408 \r\nL 269.966761 273.574098 \r\nL 272.694034 272.311196 \r\nL 275.421307 271.255753 \r\nL 278.14858 268.524201 \r\nL 280.875852 268.953453 \r\nL 283.603125 268.214575 \r\nL 286.330398 268.063506 \r\nL 289.05767 267.7303 \r\nL 291.784943 265.165541 \r\nL 294.512216 263.356731 \r\nL 297.239489 262.961378 \r\nL 299.966761 262.22786 \r\nL 302.694034 261.827669 \r\nL 305.421307 261.660306 \r\nL 308.14858 260.598408 \r\nL 310.875852 260.343989 \r\nL 313.603125 261.100073 \r\nL 316.330398 261.331679 \r\nL 319.05767 261.173927 \r\nL 321.784943 257.898285 \r\nL 324.512216 255.286409 \r\nL 329.966761 252.249502 \r\nL 332.694034 250.125316 \r\nL 335.421307 248.683955 \r\nL 338.14858 246.760782 \r\nL 340.875852 246.860991 \r\nL 343.603125 245.50638 \r\nL 346.330398 244.521739 \r\nL 349.05767 246.946497 \r\nL 351.784943 246.775486 \r\nL 354.512216 246.749787 \r\nL 357.239489 245.166849 \r\nL 359.966761 243.786068 \r\nL 362.694034 242.140408 \r\nL 365.421307 241.801915 \r\nL 368.14858 241.32235 \r\nL 370.875852 240.565233 \r\nL 373.603125 239.050235 \r\nL 376.330398 236.840752 \r\nL 379.05767 236.133073 \r\nL 381.784943 234.20541 \r\nL 384.512216 232.444215 \r\nL 387.239489 229.568813 \r\nL 389.966761 229.513125 \r\nL 392.694034 228.040374 \r\nL 395.421307 225.475043 \r\nL 398.14858 223.298383 \r\nL 400.875852 222.158592 \r\nL 403.603125 221.198907 \r\nL 406.330398 218.398408 \r\nL 411.784943 213.718979 \r\nL 414.512216 208.613856 \r\nL 417.239489 208.473514 \r\nL 422.694034 206.854249 \r\nL 425.421307 209.950474 \r\nL 428.14858 206.391334 \r\nL 430.875852 204.974127 \r\nL 433.603125 202.371117 \r\nL 436.330398 201.498642 \r\nL 439.05767 196.285606 \r\nL 441.784943 196.117965 \r\nL 444.512216 194.877677 \r\nL 447.239489 194.493283 \r\nL 449.966761 193.424189 \r\nL 452.694034 192.860972 \r\nL 455.421307 191.638316 \r\nL 458.14858 191.119611 \r\nL 460.875852 190.122779 \r\nL 463.603125 189.598205 \r\nL 466.330398 188.846473 \r\nL 469.05767 189.953855 \r\nL 471.784943 188.754298 \r\nL 474.512216 186.871348 \r\nL 477.239489 185.69047 \r\nL 479.966761 187.233336 \r\nL 482.694034 184.775496 \r\nL 485.421307 184.717895 \r\nL 488.14858 184.119471 \r\nL 490.875852 181.86698 \r\nL 493.603125 181.864496 \r\nL 496.330398 179.716149 \r\nL 499.05767 177.385774 \r\nL 501.784943 175.272837 \r\nL 504.512216 172.193404 \r\nL 507.239489 169.875407 \r\nL 509.966761 167.773168 \r\nL 512.694034 167.292159 \r\nL 515.421307 165.90147 \r\nL 520.875852 165.319079 \r\nL 523.603125 163.775638 \r\nL 526.330398 164.546682 \r\nL 529.05767 162.529196 \r\nL 531.784943 162.362133 \r\nL 534.512216 164.797992 \r\nL 537.239489 161.62505 \r\nL 539.966761 160.552347 \r\nL 542.694034 158.796708 \r\nL 545.421307 158.225027 \r\nL 548.14858 156.225905 \r\nL 550.875852 153.892914 \r\nL 553.603125 153.867175 \r\nL 559.05767 150.284215 \r\nL 561.784943 150.957061 \r\nL 564.512216 149.656545 \r\nL 567.239489 147.839484 \r\nL 569.966761 146.63989 \r\nL 572.694034 145.788911 \r\nL 575.421307 143.120288 \r\nL 580.875852 141.263971 \r\nL 583.603125 138.493196 \r\nL 586.330398 137.87195 \r\nL 589.05767 137.816567 \r\nL 591.784943 136.389882 \r\nL 594.512216 135.904726 \r\nL 597.239489 136.868608 \r\nL 599.966761 134.993407 \r\nL 602.694034 136.167982 \r\nL 608.14858 132.252925 \r\nL 610.875852 131.808051 \r\nL 613.603125 131.533218 \r\nL 616.330398 130.464779 \r\nL 619.05767 131.530124 \r\nL 621.784943 131.44509 \r\nL 624.512216 130.043311 \r\nL 629.966761 126.172919 \r\nL 632.694034 125.350916 \r\nL 635.421307 121.207399 \r\nL 638.14858 126.991439 \r\nL 640.875852 120.754852 \r\nL 643.603125 119.729845 \r\nL 646.330398 117.668248 \r\nL 649.05767 111.759257 \r\nL 651.784943 106.806985 \r\nL 654.512216 102.346155 \r\nL 657.239489 102.193157 \r\nL 659.966761 99.625332 \r\nL 662.694034 98.600236 \r\nL 665.421307 96.944586 \r\nL 668.14858 94.90467 \r\nL 670.875852 92.308198 \r\nL 673.603125 90.869017 \r\nL 676.330398 89.782831 \r\nL 679.05767 89.336747 \r\nL 681.784943 89.164038 \r\nL 684.512216 89.515399 \r\nL 687.239489 87.172571 \r\nL 689.966761 85.61949 \r\nL 692.694034 80.825517 \r\nL 695.421307 79.477172 \r\nL 698.14858 79.131513 \r\nL 700.875852 77.072645 \r\nL 703.603125 76.571089 \r\nL 706.330398 75.1295 \r\nL 709.05767 75.511217 \r\nL 711.784943 73.841442 \r\nL 714.512216 73.775958 \r\nL 719.966761 71.489256 \r\nL 722.694034 70.733142 \r\nL 725.421307 69.416455 \r\nL 728.14858 69.33018 \r\nL 730.875852 68.963014 \r\nL 733.603125 68.919949 \r\nL 736.330398 67.569165 \r\nL 739.05767 67.115767 \r\nL 741.784943 62.602296 \r\nL 744.512216 61.048772 \r\nL 749.966761 60.047077 \r\nL 752.694034 56.903146 \r\nL 755.421307 56.734548 \r\nL 758.14858 59.784363 \r\nL 760.875852 60.325025 \r\nL 763.603125 57.007337 \r\nL 766.330398 55.647473 \r\nL 769.05767 55.602704 \r\nL 771.784943 53.40319 \r\nL 774.512216 54.508189 \r\nL 777.239489 52.742748 \r\nL 779.966761 49.68083 \r\nL 782.694034 48.079825 \r\nL 785.421307 47.953572 \r\nL 790.875852 41.528293 \r\nL 793.603125 40.566576 \r\nL 796.330398 40.529901 \r\nL 799.05767 38.886339 \r\nL 801.784943 39.150454 \r\nL 804.512216 36.10152 \r\nL 807.239489 34.85134 \r\nL 809.966761 33.838307 \r\nL 812.694034 32.266052 \r\nL 815.421307 33.679626 \r\nL 818.14858 33.39237 \r\nL 823.603125 31.229571 \r\nL 826.330398 29.007466 \r\nL 829.05767 25.525455 \r\nL 829.05767 25.525455 \r\n\" style=\"fill:none;stroke:#8dd3c7;stroke-linecap:square;stroke-width:1.5;\"/>\r\n   </g>\r\n   <g id=\"patch_3\">\r\n    <path d=\"M 30.103125 336.86 \r\nL 30.103125 10.7 \r\n\" style=\"fill:none;stroke:#ffffff;stroke-linecap:square;stroke-linejoin:miter;stroke-width:0.8;\"/>\r\n   </g>\r\n   <g id=\"patch_4\">\r\n    <path d=\"M 867.103125 336.86 \r\nL 867.103125 10.7 \r\n\" style=\"fill:none;stroke:#ffffff;stroke-linecap:square;stroke-linejoin:miter;stroke-width:0.8;\"/>\r\n   </g>\r\n   <g id=\"patch_5\">\r\n    <path d=\"M 30.103125 336.86 \r\nL 867.103125 336.86 \r\n\" style=\"fill:none;stroke:#ffffff;stroke-linecap:square;stroke-linejoin:miter;stroke-width:0.8;\"/>\r\n   </g>\r\n   <g id=\"patch_6\">\r\n    <path d=\"M 30.103125 10.7 \r\nL 867.103125 10.7 \r\n\" style=\"fill:none;stroke:#ffffff;stroke-linecap:square;stroke-linejoin:miter;stroke-width:0.8;\"/>\r\n   </g>\r\n  </g>\r\n </g>\r\n <defs>\r\n  <clipPath id=\"pf509874cf2\">\r\n   <rect height=\"326.16\" width=\"837\" x=\"30.103125\" y=\"10.7\"/>\r\n  </clipPath>\r\n </defs>\r\n</svg>\r\n",
            "text/plain": [
              "<Figure size 1080x432 with 1 Axes>"
            ]
          },
          "metadata": {
            "tags": []
          }
        }
      ]
    },
    {
      "cell_type": "code",
      "metadata": {
        "id": "c7GTaetsYYKD",
        "colab_type": "code",
        "colab": {}
      },
      "source": [
        ""
      ],
      "execution_count": 0,
      "outputs": []
    }
  ]
}